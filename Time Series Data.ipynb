{
 "cells": [
  {
   "cell_type": "markdown",
   "metadata": {},
   "source": [
    "This code is intended as a demo of my understanding of sequential data and not for market use. Crypto market is highly volatile and not suitable for trading.\n",
    "\n",
    "\n",
    "**The problem** ; given price and volume going back a certain number of lookback timesteps, and sampled every step, can we predict the price movement in delay_period number of periods in the future?"
   ]
  },
  {
   "cell_type": "code",
   "execution_count": null,
   "metadata": {},
   "outputs": [],
   "source": [
    "import pandas as pd\n",
    "import numpy as np\n",
    "import random\n",
    "from sklearn import preprocessing \n",
    "\n",
    "import warnings\n",
    "warnings.filterwarnings(\"ignore\")\n",
    "\n",
    "import keras\n",
    "from keras.models import Sequential\n",
    "from keras.layers import Dense, Dropout, LSTM, BatchNormalization, GRU\n",
    "from keras.callbacks import ModelCheckpoint, EarlyStopping"
   ]
  },
  {
   "cell_type": "code",
   "execution_count": null,
   "metadata": {},
   "outputs": [],
   "source": [
    "lookback = 30  # how long of a preceeding sequence to collect in minutes\n",
    "delay_period = 2  # how far into the future are we trying to predict in minutes?\n",
    "RATIO_TO_PREDICT = \"LTC-USD\"\n",
    "    \n",
    "main_df = pd.DataFrame() \n",
    "\n",
    "ratios = [\"BTC-USD\", \"LTC-USD\", \"BCH-USD\", \"ETH-USD\"]  # the 4 ratios we want to consider\n",
    "for ratio in ratios:  \n",
    "    print(ratio)\n",
    "    dataset = f'{ratio}.csv'  \n",
    "    df = pd.read_csv(dataset, names=['time',  'close', 'volume'], usecols=[0,4,5], index_col='time')  # read in specific file\n",
    "\n",
    "    # rename volume and close to include the ticker so we can still which close/volume is which:\n",
    "    df.rename(columns={\"close\": f\"{ratio}_close\", \"volume\": f\"{ratio}_volume\"}, inplace=True)\n",
    "    df = df[[f\"{ratio}_close\", f\"{ratio}_volume\"]] \n",
    "\n",
    "    if len(main_df)==0:  \n",
    "        main_df = df  \n",
    "    else:  \n",
    "        main_df = main_df.join(df) # join on index; time.\n",
    "\n",
    "\n",
    "main_df.fillna(method=\"ffill\", inplace=True)  # if there are gaps in data, use previously known values\n",
    "main_df.dropna(inplace=True)\n",
    "   \n",
    "main_df['future'] = main_df[f'{RATIO_TO_PREDICT}_close'].shift(-delay_period) #shift cells up 2 periods"
   ]
  },
  {
   "cell_type": "code",
   "execution_count": null,
   "metadata": {},
   "outputs": [],
   "source": [
    "def classify(current, future):\n",
    "    if float(future) > float(current):\n",
    "        return 1 #indicates a buy if future price is greater than current.\n",
    "    else:\n",
    "        return 0 # indicates a sell\n",
    "    \n",
    "main_df['target'] = list(map(classify, main_df[f'{RATIO_TO_PREDICT}_close'], main_df['future']))\n",
    "main_df = main_df.drop(\"future\", 1) \n",
    "\n",
    "# normalizing\n",
    "for col in main_df.columns:  \n",
    "    if col != \"target\":  \n",
    "        main_df[col] = main_df[col]/(main_df[col].iloc[0])\n",
    "print(main_df.head()) "
   ]
  },
  {
   "cell_type": "code",
   "execution_count": null,
   "metadata": {},
   "outputs": [],
   "source": [
    "print(main_df['target'].value_counts()) # 1 and 0 values are disproportionate in count."
   ]
  },
  {
   "cell_type": "code",
   "execution_count": null,
   "metadata": {},
   "outputs": [],
   "source": [
    "drop_number = (main_df.target.value_counts()).iloc[0]-(main_df.target.value_counts()).iloc[1]\n",
    "zero_class = []\n",
    "for i, row in enumerate(main_df.target):\n",
    "    if row == 0:\n",
    "        zero_class.append(i) #append indexes with zero class\n",
    "        \n",
    "zero_class_dropped = np.random.choice(zero_class, drop_number)\n",
    "main_df = main_df.reset_index().drop(zero_class_dropped).set_index('time')\n",
    "print(main_df.target.value_counts())"
   ]
  },
  {
   "cell_type": "code",
   "execution_count": null,
   "metadata": {},
   "outputs": [],
   "source": [
    "# Because the samples in the dataset are highly redundant it would be computationally expensive\n",
    "# to pass every sample through the neural net. Instead, the generator generates samples with a step of 2.\n",
    "# Its also a great way to seperate the training data from validation and test sets.\n",
    "# The generator takes the input array of data and yields\n",
    "# batches of data of size 200 along with a target, zero or one, for each sequence. \n",
    "def generator(data, lookback, min_index, max_index, batch_size=200, step=2):\n",
    "    if max_index is None:\n",
    "        max_index = len(data)  - 1\n",
    "    i = min_index + lookback\n",
    "\n",
    "    while True:\n",
    "        if i + batch_size >= max_index:\n",
    "            i = min_index + lookback\n",
    "        rows = np.arange(i, min(i + batch_size, max_index))\n",
    "        i += len(rows)\n",
    "        samples = np.zeros((len(rows), lookback // step, data.shape[-1]-1)) #(samples, lookback steps, features)  \n",
    "        targets = np.zeros((len(rows),)) \n",
    "\n",
    "        for j, row in enumerate(rows):\n",
    "            indices = range(rows[j] - lookback, rows[j], step)\n",
    "            samples[j] = data.iloc[indices, 0:8]                           \n",
    "            targets[j] = data.iloc[rows[j]][8]        \n",
    "        yield samples, targets\n",
    "        \n",
    "train_gen = generator(main_df, lookback=lookback ,min_index=0, max_index=58030, step=2)\n",
    "val_gen = generator(main_df, lookback=lookback ,min_index=58001, max_index=70031, step=2)\n",
    "test_gen = generator(main_df, lookback=lookback  ,min_index=70002, max_index=81032, step=2)"
   ]
  },
  {
   "cell_type": "code",
   "execution_count": 8,
   "metadata": {
    "scrolled": true
   },
   "outputs": [
    {
     "name": "stdout",
     "output_type": "stream",
     "text": [
      "Epoch 1/20\n",
      " - 99s - loss: 0.6914 - acc: 0.5274 - val_loss: 0.6952 - val_acc: 0.5134\n",
      "Epoch 2/20\n",
      " - 93s - loss: 0.6914 - acc: 0.5237 - val_loss: 0.6917 - val_acc: 0.5218\n",
      "Epoch 3/20\n",
      " - 95s - loss: 0.6907 - acc: 0.5290 - val_loss: 0.6915 - val_acc: 0.5262\n",
      "Epoch 4/20\n",
      " - 92s - loss: 0.6906 - acc: 0.5280 - val_loss: 0.6912 - val_acc: 0.5248\n",
      "Epoch 5/20\n",
      " - 96s - loss: 0.6904 - acc: 0.5290 - val_loss: 0.6912 - val_acc: 0.5248\n",
      "Epoch 6/20\n",
      " - 97s - loss: 0.6902 - acc: 0.5306 - val_loss: 0.6912 - val_acc: 0.5245\n",
      "Epoch 7/20\n",
      " - 95s - loss: 0.6900 - acc: 0.5317 - val_loss: 0.6912 - val_acc: 0.5245\n",
      "Epoch 8/20\n",
      " - 97s - loss: 0.6900 - acc: 0.5316 - val_loss: 0.6912 - val_acc: 0.5266\n",
      "Epoch 9/20\n",
      " - 92s - loss: 0.6900 - acc: 0.5312 - val_loss: 0.6911 - val_acc: 0.5281\n",
      "Epoch 10/20\n",
      " - 93s - loss: 0.6898 - acc: 0.5329 - val_loss: 0.6911 - val_acc: 0.5293\n",
      "Epoch 11/20\n",
      " - 88s - loss: 0.6898 - acc: 0.5315 - val_loss: 0.6911 - val_acc: 0.5300\n",
      "Epoch 12/20\n",
      " - 88s - loss: 0.6898 - acc: 0.5323 - val_loss: 0.6912 - val_acc: 0.5278\n",
      "Epoch 13/20\n",
      " - 90s - loss: 0.6898 - acc: 0.5302 - val_loss: 0.6911 - val_acc: 0.5328\n",
      "Epoch 14/20\n",
      " - 96s - loss: 0.6898 - acc: 0.5319 - val_loss: 0.6911 - val_acc: 0.5270\n",
      "Epoch 15/20\n",
      " - 96s - loss: 0.6895 - acc: 0.5338 - val_loss: 0.6912 - val_acc: 0.5329\n",
      "Epoch 16/20\n",
      " - 94s - loss: 0.6895 - acc: 0.5314 - val_loss: 0.6912 - val_acc: 0.5312\n",
      "Epoch 17/20\n",
      " - 88s - loss: 0.6896 - acc: 0.5318 - val_loss: 0.6913 - val_acc: 0.5317\n",
      "Epoch 18/20\n",
      " - 88s - loss: 0.6894 - acc: 0.5330 - val_loss: 0.6912 - val_acc: 0.5311\n",
      "Epoch 19/20\n",
      " - 88s - loss: 0.6894 - acc: 0.5347 - val_loss: 0.6911 - val_acc: 0.5351\n",
      "Epoch 20/20\n",
      " - 88s - loss: 0.6892 - acc: 0.5345 - val_loss: 0.6913 - val_acc: 0.5289\n"
     ]
    }
   ],
   "source": [
    "# recommended to run on gpu, change lstm to cuDNNLSTM and remove the activation argument.\n",
    "model = Sequential([\n",
    "    LSTM(128, input_shape=(15, 8), activation='tanh', recurrent_dropout=0.2, return_sequences=True),\n",
    "    LSTM(128, activation='tanh', recurrent_dropout=0.2, return_sequences=True),\n",
    "    LSTM(128, activation='tanh', recurrent_dropout=0.2),\n",
    "\n",
    "\n",
    "    Dense(64, activation='relu'),\n",
    "    Dropout(0.2),\n",
    "    \n",
    "    Dense(1, activation='sigmoid')    \n",
    "    ])\n",
    "\n",
    "\n",
    "# Compile and run model\n",
    "opt = keras.optimizers.Adam(lr=0.001, decay=1e-6)\n",
    "model.compile(loss='binary_crossentropy',optimizer=opt ,metrics=['accuracy'])\n",
    "checkpoint = ModelCheckpoint('weights.hdf5', monitor='val_acc', save_best_only=True)\n",
    "history = model.fit_generator(train_gen, steps_per_epoch=290, epochs=20,validation_data=val_gen, validation_steps=60,\n",
    "                              callbacks= [checkpoint], verbose=2)      \n"
   ]
  },
  {
   "cell_type": "code",
   "execution_count": 11,
   "metadata": {},
   "outputs": [
    {
     "data": {
      "image/png": "[encoded data removed]",
      "text/plain": [
       "<Figure size 432x288 with 1 Axes>"
      ]
     },
     "metadata": {},
     "output_type": "display_data"
    }
   ],
   "source": [
    "# visualizing the epochs\n",
    "import matplotlib.pyplot as plt\n",
    "acc = history.history['acc']\n",
    "val_acc = history.history['val_acc']\n",
    "epochs = range(1, len(acc) + 1)\n",
    "plt.plot(epochs, acc, 'b', label='Training acc')\n",
    "plt.plot(epochs, val_acc, 'r', label='Validation acc')\n",
    "plt.title('Training and validation acc')\n",
    "plt.xticks(range(1, len(acc) + 1, 2))\n",
    "plt.legend()\n",
    "plt.show()"
   ]
  },
  {
   "cell_type": "code",
   "execution_count": 12,
   "metadata": {
    "scrolled": true
   },
   "outputs": [
    {
     "name": "stdout",
     "output_type": "stream",
     "text": [
      "Out of sample test set accuracy is 53.19\n"
     ]
    }
   ],
   "source": [
    "# Out of sample test set evaluation\n",
    "model = Sequential([\n",
    "    LSTM(128, input_shape=(15, 8), activation='tanh', recurrent_dropout=0.2, return_sequences=True),\n",
    "    LSTM(128, activation='tanh', recurrent_dropout=0.2, return_sequences=True),\n",
    "    LSTM(128, activation='tanh', recurrent_dropout=0.2),\n",
    "\n",
    "    Dense(64, activation='relu'),\n",
    "    Dropout(0.2),\n",
    "    \n",
    "    Dense(1, activation='sigmoid')    \n",
    "    ])\n",
    "\n",
    "model.load_weights('weights.hdf5')\n",
    "\n",
    "model.compile(loss='binary_crossentropy',optimizer=opt ,metrics=['accuracy'])\n",
    "\n",
    "test_eval = model.evaluate_generator(test_gen, steps=55)\n",
    "print(f'Out of sample test set accuracy is {test_eval[1]*100:.2f}')"
   ]
  }
 ],
 "metadata": {
  "kernelspec": {
   "display_name": "Python 3",
   "language": "python",
   "name": "python3"
  }
 },
 "nbformat": 4,
 "nbformat_minor": 2
}
